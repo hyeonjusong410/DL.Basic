{
  "nbformat": 4,
  "nbformat_minor": 0,
  "metadata": {
    "colab": {
      "provenance": [],
      "authorship_tag": "ABX9TyOafzFlnETjpsuMPt8OyMN1",
      "include_colab_link": true
    },
    "kernelspec": {
      "name": "python3",
      "display_name": "Python 3"
    },
    "language_info": {
      "name": "python"
    }
  },
  "cells": [
    {
      "cell_type": "markdown",
      "metadata": {
        "id": "view-in-github",
        "colab_type": "text"
      },
      "source": [
        "<a href=\"https://colab.research.google.com/github/hyeonjusong410/DL.Basic/blob/main/Seq2Seq.ipynb\" target=\"_parent\"><img src=\"https://colab.research.google.com/assets/colab-badge.svg\" alt=\"Open In Colab\"/></a>"
      ]
    },
    {
      "cell_type": "code",
      "execution_count": 1,
      "metadata": {
        "id": "jjEJZDNHXpDn"
      },
      "outputs": [],
      "source": [
        "from collections import defaultdict\n",
        "\n",
        "import numpy as np\n",
        "\n",
        "import torch\n",
        "import torch as tc\n",
        "import torch.nn as nn\n",
        "import torch.nn.functional as F\n",
        "import torch.optim as optim\n",
        "\n",
        "%matplotlib inline\n",
        "import matplotlib.pyplot as plt"
      ]
    },
    {
      "cell_type": "code",
      "source": [
        "def generate_batch(seq_len_min=1, seq_len_max=20, batch_size=10):\n",
        "    T_1 = np.random.randint(seq_len_min, seq_len_max + 1)\n",
        "    digits = np.random.randint(0, 10, (T_1, batch_size))\n",
        "    one_hot_x = np.zeros((T_1 + 1, batch_size, 12), dtype=np.float32)\n",
        "    one_hot_x[np.arange(T_1).reshape(-1, 1), np.arange(batch_size), digits] = 1\n",
        "    one_hot_x[-1, :, -1] = 1\n",
        "    ends = np.full(batch_size, 11).reshape(1, -1)\n",
        "    y = np.concatenate([digits[::-1], ends], axis=0)\n",
        "    return one_hot_x, y, digits"
      ],
      "metadata": {
        "id": "URrMn-JgcmHj"
      },
      "execution_count": 7,
      "outputs": []
    },
    {
      "cell_type": "code",
      "source": [
        "one_hot_x, y , digits = generate_batch()"
      ],
      "metadata": {
        "id": "iyspm73Md1La"
      },
      "execution_count": 8,
      "outputs": []
    },
    {
      "cell_type": "code",
      "source": [
        "one_hot_x.shape, y.shape , digits.shape"
      ],
      "metadata": {
        "colab": {
          "base_uri": "https://localhost:8080/"
        },
        "id": "IJn45W3ud7mk",
        "outputId": "14695d25-2e16-4340-ff5a-a309f5f1e134"
      },
      "execution_count": 9,
      "outputs": [
        {
          "output_type": "execute_result",
          "data": {
            "text/plain": [
              "((18, 10, 12), (18, 10), (17, 10))"
            ]
          },
          "metadata": {},
          "execution_count": 9
        }
      ]
    },
    {
      "cell_type": "code",
      "source": [
        "one_hot_x[:,0,:]"
      ],
      "metadata": {
        "colab": {
          "base_uri": "https://localhost:8080/"
        },
        "id": "_60qpqjxd9dv",
        "outputId": "159d2d51-f598-47f2-856d-bb540ceea277"
      },
      "execution_count": 5,
      "outputs": [
        {
          "output_type": "execute_result",
          "data": {
            "text/plain": [
              "array([[0., 0., 0., 0., 0., 1., 0., 0., 0., 0., 0., 0.],\n",
              "       [0., 1., 0., 0., 0., 0., 0., 0., 0., 0., 0., 0.],\n",
              "       [0., 1., 0., 0., 0., 0., 0., 0., 0., 0., 0., 0.],\n",
              "       [1., 0., 0., 0., 0., 0., 0., 0., 0., 0., 0., 0.],\n",
              "       [0., 0., 0., 0., 1., 0., 0., 0., 0., 0., 0., 0.],\n",
              "       [0., 0., 1., 0., 0., 0., 0., 0., 0., 0., 0., 0.],\n",
              "       [1., 0., 0., 0., 0., 0., 0., 0., 0., 0., 0., 0.],\n",
              "       [0., 0., 0., 0., 1., 0., 0., 0., 0., 0., 0., 0.],\n",
              "       [0., 0., 0., 0., 0., 0., 0., 0., 0., 1., 0., 0.],\n",
              "       [0., 0., 0., 1., 0., 0., 0., 0., 0., 0., 0., 0.],\n",
              "       [0., 1., 0., 0., 0., 0., 0., 0., 0., 0., 0., 0.],\n",
              "       [0., 0., 0., 0., 1., 0., 0., 0., 0., 0., 0., 0.],\n",
              "       [0., 0., 0., 0., 0., 0., 0., 1., 0., 0., 0., 0.],\n",
              "       [0., 0., 0., 0., 0., 0., 0., 0., 0., 0., 0., 1.]], dtype=float32)"
            ]
          },
          "metadata": {},
          "execution_count": 5
        }
      ]
    },
    {
      "cell_type": "code",
      "source": [
        "digits"
      ],
      "metadata": {
        "colab": {
          "base_uri": "https://localhost:8080/"
        },
        "id": "RVbQZ_rod-sr",
        "outputId": "68077a7b-bd70-433c-990e-f7d78704e41e"
      },
      "execution_count": 10,
      "outputs": [
        {
          "output_type": "execute_result",
          "data": {
            "text/plain": [
              "array([[4, 4, 1, 1, 9, 4, 1, 7, 1, 6],\n",
              "       [2, 6, 4, 2, 0, 7, 5, 5, 4, 1],\n",
              "       [2, 3, 6, 0, 5, 9, 1, 0, 9, 0],\n",
              "       [9, 3, 7, 9, 9, 8, 4, 4, 1, 3],\n",
              "       [3, 4, 5, 9, 8, 3, 9, 1, 6, 8],\n",
              "       [4, 3, 1, 1, 7, 2, 3, 2, 9, 2],\n",
              "       [1, 6, 6, 1, 8, 4, 1, 9, 2, 0],\n",
              "       [0, 6, 5, 2, 4, 7, 0, 5, 8, 9],\n",
              "       [8, 6, 9, 2, 2, 1, 9, 5, 2, 4],\n",
              "       [7, 6, 9, 4, 4, 1, 7, 8, 1, 7],\n",
              "       [8, 6, 9, 5, 8, 4, 3, 0, 3, 2],\n",
              "       [1, 3, 0, 5, 0, 6, 4, 4, 4, 9],\n",
              "       [1, 6, 3, 9, 1, 5, 1, 9, 4, 6],\n",
              "       [1, 3, 6, 9, 6, 5, 5, 9, 3, 4],\n",
              "       [1, 0, 1, 2, 8, 8, 7, 3, 2, 4],\n",
              "       [4, 9, 5, 9, 5, 8, 2, 4, 5, 2],\n",
              "       [8, 0, 3, 1, 2, 2, 4, 3, 3, 2]])"
            ]
          },
          "metadata": {},
          "execution_count": 10
        }
      ]
    },
    {
      "cell_type": "code",
      "source": [
        "y"
      ],
      "metadata": {
        "colab": {
          "base_uri": "https://localhost:8080/"
        },
        "id": "1SwqSg80enCc",
        "outputId": "ae52e3e9-aa40-452f-eb0b-1971def1ed4f"
      },
      "execution_count": 11,
      "outputs": [
        {
          "output_type": "execute_result",
          "data": {
            "text/plain": [
              "array([[ 8,  0,  3,  1,  2,  2,  4,  3,  3,  2],\n",
              "       [ 4,  9,  5,  9,  5,  8,  2,  4,  5,  2],\n",
              "       [ 1,  0,  1,  2,  8,  8,  7,  3,  2,  4],\n",
              "       [ 1,  3,  6,  9,  6,  5,  5,  9,  3,  4],\n",
              "       [ 1,  6,  3,  9,  1,  5,  1,  9,  4,  6],\n",
              "       [ 1,  3,  0,  5,  0,  6,  4,  4,  4,  9],\n",
              "       [ 8,  6,  9,  5,  8,  4,  3,  0,  3,  2],\n",
              "       [ 7,  6,  9,  4,  4,  1,  7,  8,  1,  7],\n",
              "       [ 8,  6,  9,  2,  2,  1,  9,  5,  2,  4],\n",
              "       [ 0,  6,  5,  2,  4,  7,  0,  5,  8,  9],\n",
              "       [ 1,  6,  6,  1,  8,  4,  1,  9,  2,  0],\n",
              "       [ 4,  3,  1,  1,  7,  2,  3,  2,  9,  2],\n",
              "       [ 3,  4,  5,  9,  8,  3,  9,  1,  6,  8],\n",
              "       [ 9,  3,  7,  9,  9,  8,  4,  4,  1,  3],\n",
              "       [ 2,  3,  6,  0,  5,  9,  1,  0,  9,  0],\n",
              "       [ 2,  6,  4,  2,  0,  7,  5,  5,  4,  1],\n",
              "       [ 4,  4,  1,  1,  9,  4,  1,  7,  1,  6],\n",
              "       [11, 11, 11, 11, 11, 11, 11, 11, 11, 11]])"
            ]
          },
          "metadata": {},
          "execution_count": 11
        }
      ]
    },
    {
      "cell_type": "code",
      "source": [
        "one_hot_x[:,:,:]"
      ],
      "metadata": {
        "colab": {
          "base_uri": "https://localhost:8080/"
        },
        "id": "9T2zKaDWe5LU",
        "outputId": "2e983f48-7dc6-46e9-ef1f-918b6d76a8e1"
      },
      "execution_count": 12,
      "outputs": [
        {
          "output_type": "execute_result",
          "data": {
            "text/plain": [
              "array([[[0., 0., 0., ..., 0., 0., 0.],\n",
              "        [0., 0., 0., ..., 0., 0., 0.],\n",
              "        [0., 1., 0., ..., 0., 0., 0.],\n",
              "        ...,\n",
              "        [0., 0., 0., ..., 0., 0., 0.],\n",
              "        [0., 1., 0., ..., 0., 0., 0.],\n",
              "        [0., 0., 0., ..., 0., 0., 0.]],\n",
              "\n",
              "       [[0., 0., 1., ..., 0., 0., 0.],\n",
              "        [0., 0., 0., ..., 0., 0., 0.],\n",
              "        [0., 0., 0., ..., 0., 0., 0.],\n",
              "        ...,\n",
              "        [0., 0., 0., ..., 0., 0., 0.],\n",
              "        [0., 0., 0., ..., 0., 0., 0.],\n",
              "        [0., 1., 0., ..., 0., 0., 0.]],\n",
              "\n",
              "       [[0., 0., 1., ..., 0., 0., 0.],\n",
              "        [0., 0., 0., ..., 0., 0., 0.],\n",
              "        [0., 0., 0., ..., 0., 0., 0.],\n",
              "        ...,\n",
              "        [1., 0., 0., ..., 0., 0., 0.],\n",
              "        [0., 0., 0., ..., 1., 0., 0.],\n",
              "        [1., 0., 0., ..., 0., 0., 0.]],\n",
              "\n",
              "       ...,\n",
              "\n",
              "       [[0., 0., 0., ..., 0., 0., 0.],\n",
              "        [0., 0., 0., ..., 1., 0., 0.],\n",
              "        [0., 0., 0., ..., 0., 0., 0.],\n",
              "        ...,\n",
              "        [0., 0., 0., ..., 0., 0., 0.],\n",
              "        [0., 0., 0., ..., 0., 0., 0.],\n",
              "        [0., 0., 1., ..., 0., 0., 0.]],\n",
              "\n",
              "       [[0., 0., 0., ..., 0., 0., 0.],\n",
              "        [1., 0., 0., ..., 0., 0., 0.],\n",
              "        [0., 0., 0., ..., 0., 0., 0.],\n",
              "        ...,\n",
              "        [0., 0., 0., ..., 0., 0., 0.],\n",
              "        [0., 0., 0., ..., 0., 0., 0.],\n",
              "        [0., 0., 1., ..., 0., 0., 0.]],\n",
              "\n",
              "       [[0., 0., 0., ..., 0., 0., 1.],\n",
              "        [0., 0., 0., ..., 0., 0., 1.],\n",
              "        [0., 0., 0., ..., 0., 0., 1.],\n",
              "        ...,\n",
              "        [0., 0., 0., ..., 0., 0., 1.],\n",
              "        [0., 0., 0., ..., 0., 0., 1.],\n",
              "        [0., 0., 0., ..., 0., 0., 1.]]], dtype=float32)"
            ]
          },
          "metadata": {},
          "execution_count": 12
        }
      ]
    },
    {
      "cell_type": "code",
      "source": [
        "import torch\n",
        "import torch.nn as nn\n",
        "import torch.nn.functional as F\n",
        "\n",
        "class RNN(nn.Module):\n",
        "    def __init__(self, dim_input, dim_recurrent, dim_output):\n",
        "        super(RNN, self).__init__()\n",
        "        self.fc_x2h = nn.Linear(dim_input, dim_recurrent)\n",
        "        self.fc_h2h = nn.Linear(dim_recurrent, dim_recurrent, bias=False)\n",
        "        self.fc_h2y = nn.Linear(dim_recurrent, dim_output)\n",
        "        self.relu = nn.ReLU()\n",
        "\n",
        "\n",
        "    def forward(self, x, h_t=None):\n",
        "        N = x.shape[1]\n",
        "        D = self.fc_h2h.weight.shape[0]\n",
        "\n",
        "        if h_t is None:\n",
        "            h_t = torch.zeros(1, N, D, dtype=torch.float32)\n",
        "\n",
        "\n",
        "        h = []\n",
        "\n",
        "        for x_t in x:\n",
        "            h_t = self.relu(self.fc_x2h(x_t) + self.fc_h2h(h_t))\n",
        "            h.append(h_t)\n",
        "\n",
        "\n",
        "        all_h = torch.cat(h, dim=0)\n",
        "        all_y = self.fc_h2y(all_h)\n",
        "        return all_y, all_h"
      ],
      "metadata": {
        "id": "-ZLL9D7bfHAL"
      },
      "execution_count": 13,
      "outputs": []
    },
    {
      "cell_type": "code",
      "source": [
        "class Seq2Seq(nn.Module):\n",
        "  def __init__(self, dim_input, dim_recurrent, dim_output):\n",
        "    super(Seq2Seq, self).__init__()\n",
        "    self.encoder = RNN(dim_input, dim_recurrent, dim_output)\n",
        "    self.decoder = RNN(dim_input, dim_recurrent, dim_output)\n",
        "\n",
        "  def forward(self, x):\n",
        "    T, N, C = x.shape\n",
        "    _, enc_h = self.encoder(x)\n",
        "    h_t = enc_h[-1:, ...]\n",
        "    y = []\n",
        "    s_t = torch.zeros(1, N, C, dtype=torch.float32)\n",
        "    s_t[..., -2] = 1\n",
        "\n",
        "    for _ in range(T):\n",
        "            y_t, h_t = self.decoder(s_t, h_t)\n",
        "            y.append(y_t)\n",
        "            s_t = F.one_hot(y_t.argmax(dim=-1), num_classes=12).float().unsqueeze(0)\n",
        "\n",
        "\n",
        "    y = torch.cat(y, dim=0)\n",
        "    return y"
      ],
      "metadata": {
        "id": "7ew49NuqgAcq"
      },
      "execution_count": 20,
      "outputs": []
    },
    {
      "cell_type": "code",
      "source": [
        "model = Seq2Seq(12, 50, 12)\n",
        "optimizer = optim.Adam(model.parameters())"
      ],
      "metadata": {
        "id": "k6iVBmkYgGSJ"
      },
      "execution_count": 22,
      "outputs": []
    },
    {
      "cell_type": "code",
      "source": [
        "from IPython.display import clear_output\n",
        "def plot_loss(losses):\n",
        "    clear_output(wait=True)\n",
        "    plt.figure(figsize=(10, 5))\n",
        "    plt.plot(losses, label='Loss')\n",
        "    plt.xlabel('Epoch')\n",
        "    plt.ylabel('Loss')\n",
        "    plt.title('Loss over Epochs')\n",
        "    plt.legend()\n",
        "    plt.grid()\n",
        "    plt.show()"
      ],
      "metadata": {
        "id": "D3phEfJwhNWL"
      },
      "execution_count": 23,
      "outputs": []
    },
    {
      "cell_type": "code",
      "source": [
        "# 여기에 코드 작성\n",
        "batch_size = 100\n",
        "num_epochs = 10000\n",
        "\n",
        "losses = []\n",
        "loss_average_list = []\n",
        "for epoch in range(num_epochs):\n",
        "    x, target, _ = generate_batch(batch_size=batch_size)\n",
        "    x = torch.tensor(x, dtype=torch.float32)\n",
        "    target = torch.tensor(target, dtype=torch.long)\n",
        "    optimizer.zero_grad()\n",
        "    output = model(x)\n",
        "    loss = nn.CrossEntropyLoss()(output.view(-1, 12), target.view(-1))\n",
        "    losses.append(loss.item())\n",
        "    loss.backward()\n",
        "    optimizer.step()\n",
        "    if epoch % batch_size == 0 and epoch > 0:\n",
        "        loss_average = np.mean(losses)\n",
        "        loss_average_list.append(loss_average)\n",
        "        plot_loss(loss_average_list)\n",
        "        print(f\"Epoch {epoch}/{num_epochs}, Loss: {loss:.4f}\")"
      ],
      "metadata": {
        "colab": {
          "base_uri": "https://localhost:8080/",
          "height": 499
        },
        "id": "SRAR5BBPhV9y",
        "outputId": "b8fd667b-5159-432a-dbc8-9dc0490012dc"
      },
      "execution_count": 24,
      "outputs": [
        {
          "output_type": "display_data",
          "data": {
            "text/plain": [
              "<Figure size 1000x500 with 1 Axes>"
            ],
            "image/png": "[encoded data removed]"
          },
          "metadata": {}
        },
        {
          "output_type": "stream",
          "name": "stdout",
          "text": [
            "Epoch 9900/10000, Loss: 0.0418\n"
          ]
        }
      ]
    },
    {
      "cell_type": "code",
      "source": [],
      "metadata": {
        "id": "lNKJX6l7hXyP"
      },
      "execution_count": null,
      "outputs": []
    }
  ]
}