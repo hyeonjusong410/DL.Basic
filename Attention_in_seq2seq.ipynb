{
  "nbformat": 4,
  "nbformat_minor": 0,
  "metadata": {
    "colab": {
      "provenance": [],
      "authorship_tag": "ABX9TyM0fys2GUxi/6c4buJUJmMz",
      "include_colab_link": true
    },
    "kernelspec": {
      "name": "python3",
      "display_name": "Python 3"
    },
    "language_info": {
      "name": "python"
    }
  },
  "cells": [
    {
      "cell_type": "markdown",
      "metadata": {
        "id": "view-in-github",
        "colab_type": "text"
      },
      "source": [
        "<a href=\"https://colab.research.google.com/github/hyeonjusong410/DL.Basic/blob/main/Attention_in_seq2seq.ipynb\" target=\"_parent\"><img src=\"https://colab.research.google.com/assets/colab-badge.svg\" alt=\"Open In Colab\"/></a>"
      ]
    },
    {
      "cell_type": "code",
      "execution_count": 1,
      "metadata": {
        "id": "2aOkllD7iP3s"
      },
      "outputs": [],
      "source": [
        "import torch\n",
        "import torch.nn as nn\n",
        "import torch.optim as optim\n",
        "import torch.nn.functional as F\n",
        "import numpy as np\n",
        "\n",
        "from collections import defaultdict\n",
        "import matplotlib.pyplot as plt\n",
        "from tqdm.auto import tqdm"
      ]
    },
    {
      "cell_type": "code",
      "source": [
        "import torch\n",
        "import torch.nn as nn\n",
        "import torch.nn.functional as F\n",
        "\n",
        "class RNN(nn.Module):\n",
        "    def __init__(self, dim_input, dim_recurrent, dim_output):\n",
        "        super(RNN, self).__init__()\n",
        "        self.fc_x2h = nn.Linear(dim_input, dim_recurrent)\n",
        "        self.fc_h2h = nn.Linear(dim_recurrent, dim_recurrent, bias=False)\n",
        "        self.fc_h2y = nn.Linear(dim_recurrent, dim_output)\n",
        "        self.relu = nn.ReLU()\n",
        "\n",
        "\n",
        "        nn.init.xavier_normal_(self.fc_x2h.weight)\n",
        "        nn.init.xavier_normal_(self.fc_h2h.weight)\n",
        "        nn.init.xavier_normal_(self.fc_h2y.weight)\n",
        "\n",
        "    def forward(self, x, h_t=None):\n",
        "        N = x.shape[1]\n",
        "        D = self.fc_h2h.weight.shape[0]\n",
        "\n",
        "        if h_t is None:\n",
        "            h_t = torch.zeros(1, N, D, dtype=torch.float32)\n",
        "\n",
        "\n",
        "        h = []\n",
        "\n",
        "        for x_t in x:\n",
        "            h_t = self.relu(self.fc_x2h(x_t.unsqueeze(0)) + self.fc_h2h(h_t))\n",
        "            h.append(h_t)\n",
        "\n",
        "        all_h = torch.cat(h, dim=0)\n",
        "        all_y = self.fc_h2y(all_h)\n",
        "        return all_y, all_h"
      ],
      "metadata": {
        "id": "r2vHw894pDAK"
      },
      "execution_count": 3,
      "outputs": []
    },
    {
      "cell_type": "code",
      "source": [
        "def generate_batch(seq_len_min=1, seq_len_max=20, batch_size=10):\n",
        "    T_1 = np.random.randint(seq_len_min, seq_len_max + 1)\n",
        "    digits = np.random.randint(0, 10, (T_1, batch_size))\n",
        "    one_hot_x = np.zeros((T_1 + 1, batch_size, 12), dtype=np.float32)\n",
        "    one_hot_x[np.arange(T_1).reshape(-1, 1), np.arange(batch_size), digits] = 1\n",
        "    one_hot_x[-1, :, -1] = 1\n",
        "    ends = np.full(batch_size, 11).reshape(1, -1)\n",
        "    y = np.concatenate([digits[::-1], ends], axis=0)\n",
        "    return one_hot_x, y, digits"
      ],
      "metadata": {
        "id": "WZFhcjIrpPSG"
      },
      "execution_count": 4,
      "outputs": []
    },
    {
      "cell_type": "code",
      "source": [
        "def one_hot_encode_prediction(y_t):\n",
        "\n",
        "    y_t = y_t.detach().cpu().numpy()\n",
        "    max_values_mask = (y_t == y_t.max(axis=-1, keepdims=True))\n",
        "    one_hot_encoded = torch.tensor(max_values_mask.astype(np.float32), dtype=torch.float32)\n",
        "    return one_hot_encoded"
      ],
      "metadata": {
        "id": "sAeVz6_SpPzH"
      },
      "execution_count": 6,
      "outputs": []
    },
    {
      "cell_type": "code",
      "source": [
        "# input\n",
        "y_t = [[[0.1, 0.5, 0.3, 0.1],\n",
        "        [0.2, 0.1, 0.6, 0.1],\n",
        "        [0.5, 0.4, 0.1, 0.0]]]\n",
        "\n",
        "max_values_mask = [[[False, True, False, False],\n",
        "                    [False, False, True, False],\n",
        "                    [True, False, False, False]]]\n",
        "\n",
        "# output\n",
        "one_hot_encoded = torch.tensor([[[0.0, 1.0, 0.0, 0.0],\n",
        "                                 [0.0, 0.0, 1.0, 0.0],\n",
        "                                 [1.0, 0.0, 0.0, 0.0]]])\n",
        "\n"
      ],
      "metadata": {
        "id": "igmADi78pRFi"
      },
      "execution_count": 8,
      "outputs": []
    },
    {
      "cell_type": "code",
      "source": [
        "# setup\n",
        "T = 10  # encoder에 들어가는 input sequence의 길이(length)\n",
        "N = 32  # batch size\n",
        "D = 18  # dimension of hidden state\n",
        "encoder_hidden_states = torch.randn(T, N, D)"
      ],
      "metadata": {
        "id": "MRUwomQcpUFX"
      },
      "execution_count": 9,
      "outputs": []
    },
    {
      "cell_type": "markdown",
      "source": [
        "### attention score"
      ],
      "metadata": {
        "id": "7hx5Mdjhs3kW"
      }
    },
    {
      "cell_type": "code",
      "source": [
        "## H^eW_a = W_\\alpha @ H^e\n",
        "W_alpha = nn.Linear(D, D)\n",
        "precomputed_encoder_score_vectors = W_alpha(encoder_hidden_states)\n",
        "# (T, N, D) @ (D, D) -> (T, N, D)"
      ],
      "metadata": {
        "id": "wrTpCSY9qPkU"
      },
      "execution_count": 10,
      "outputs": []
    },
    {
      "cell_type": "code",
      "source": [
        "print(\"precomputed_encoder_score_vectors shape:\", precomputed_encoder_score_vectors.shape)\n"
      ],
      "metadata": {
        "colab": {
          "base_uri": "https://localhost:8080/"
        },
        "id": "RrJ2DzmzqS8E",
        "outputId": "a9a2ceb9-0adb-4a75-cf9f-9ff12264c3fa"
      },
      "execution_count": 11,
      "outputs": [
        {
          "output_type": "stream",
          "name": "stdout",
          "text": [
            "precomputed_encoder_score_vectors shape: torch.Size([10, 32, 18])\n"
          ]
        }
      ]
    },
    {
      "cell_type": "code",
      "source": [
        "h_t = torch.randn(1, N, D)"
      ],
      "metadata": {
        "id": "hhdsz1E6qU3H"
      },
      "execution_count": 12,
      "outputs": []
    },
    {
      "cell_type": "code",
      "source": [
        "e_t = (precomputed_encoder_score_vectors * h_t).sum(dim=-1)\n",
        "print(\"e_t shape (element-wise multiplication and sum):\", e_t.shape)"
      ],
      "metadata": {
        "colab": {
          "base_uri": "https://localhost:8080/"
        },
        "id": "FKXeKil0qbDA",
        "outputId": "672a3c63-1ad9-4bda-c41c-912074ffa6b5"
      },
      "execution_count": 14,
      "outputs": [
        {
          "output_type": "stream",
          "name": "stdout",
          "text": [
            "e_t shape (element-wise multiplication and sum): torch.Size([10, 32])\n"
          ]
        }
      ]
    },
    {
      "cell_type": "markdown",
      "source": [
        "#### attention weight"
      ],
      "metadata": {
        "id": "RaxtVWrns-3Z"
      }
    },
    {
      "cell_type": "code",
      "source": [
        "a_t = F.softmax(e_t, dim = 0)\n",
        "print(\"a_t shape:\", a_t.shape)"
      ],
      "metadata": {
        "colab": {
          "base_uri": "https://localhost:8080/"
        },
        "id": "O-u0UVwBqk_Z",
        "outputId": "edf5c90d-03f0-437e-d7ad-7c672f2d4ef4"
      },
      "execution_count": 15,
      "outputs": [
        {
          "output_type": "stream",
          "name": "stdout",
          "text": [
            "a_t shape: torch.Size([10, 32])\n"
          ]
        }
      ]
    },
    {
      "cell_type": "code",
      "source": [
        "a_t[..., None].shape"
      ],
      "metadata": {
        "colab": {
          "base_uri": "https://localhost:8080/"
        },
        "id": "Td7hxo0ktEvQ",
        "outputId": "9e7c734e-0afc-473b-d44e-f345e161d6c9"
      },
      "execution_count": 16,
      "outputs": [
        {
          "output_type": "execute_result",
          "data": {
            "text/plain": [
              "torch.Size([10, 32, 1])"
            ]
          },
          "metadata": {},
          "execution_count": 16
        }
      ]
    },
    {
      "cell_type": "markdown",
      "source": [
        "#### context vector"
      ],
      "metadata": {
        "id": "zuEYGGiSuYVG"
      }
    },
    {
      "cell_type": "code",
      "source": [
        "## context vector = {\\alpha_j * {h_j}^e}의 가중합\n",
        "c_t = (a_t[..., None] * encoder_hidden_states).sum(dim=0, keepdim=True)\n",
        "# (T, N, 1) * (T, N, D) -> (T, N, D).sum(axis=0, keepdims=True) -> (1, N, D)\n",
        "c_t.shape"
      ],
      "metadata": {
        "colab": {
          "base_uri": "https://localhost:8080/"
        },
        "id": "jpryzI5uuLG8",
        "outputId": "a605330b-fc35-45a7-93f1-a06f773ea172"
      },
      "execution_count": 18,
      "outputs": [
        {
          "output_type": "execute_result",
          "data": {
            "text/plain": [
              "torch.Size([1, 32, 18])"
            ]
          },
          "metadata": {},
          "execution_count": 18
        }
      ]
    },
    {
      "cell_type": "code",
      "source": [
        "K = 12  # dim_output in decoder (RNN)\n",
        "y_t = torch.randn(1, N, K)\n",
        "\n",
        "# concat context vector & decoder output\n",
        "y_and_c = torch.cat([y_t, c_t], dim=-1)  # (1, N, K), (1, N, D) -> (1, N, K+D)\n",
        "print(\"y_and_c shape:\", y_and_c.shape)"
      ],
      "metadata": {
        "colab": {
          "base_uri": "https://localhost:8080/"
        },
        "id": "luB47YYmuOZ7",
        "outputId": "223c87b1-b27a-4558-83a9-b828e8134d99"
      },
      "execution_count": 19,
      "outputs": [
        {
          "output_type": "stream",
          "name": "stdout",
          "text": [
            "y_and_c shape: torch.Size([1, 32, 30])\n"
          ]
        }
      ]
    },
    {
      "cell_type": "code",
      "source": [
        "post_concat_dense = nn.Linear(K + D, K)\n",
        "y_t = post_concat_dense(y_and_c)\n",
        "print(\"y_t shape: \", y_t.shape)"
      ],
      "metadata": {
        "colab": {
          "base_uri": "https://localhost:8080/"
        },
        "id": "D-QGghUNv-LJ",
        "outputId": "6c3a13f5-367b-4ca7-81ab-9fe3477f30a6"
      },
      "execution_count": 20,
      "outputs": [
        {
          "output_type": "stream",
          "name": "stdout",
          "text": [
            "y_t shape:  torch.Size([1, 32, 12])\n"
          ]
        }
      ]
    },
    {
      "cell_type": "markdown",
      "source": [
        "### seq2seq with attention"
      ],
      "metadata": {
        "id": "qQwviHASwZlq"
      }
    },
    {
      "cell_type": "code",
      "source": [
        "class Attentionseq2seq(nn.Module):\n",
        "    def __init__(self, dim_input, dim_recurrent, dim_output):\n",
        "        super(Attentionseq2seq, self).__init__()\n",
        "\n",
        "        self.encoder = RNN(dim_input, dim_recurrent, dim_output)\n",
        "        self.decoder = RNN(dim_input, dim_recurrent, dim_output)\n",
        "        self.W_alpha = nn.Linear(dim_recurrent, dim_recurrent, bias=False)\n",
        "        self.post_concat_dense = nn.Linear(dim_recurrent + dim_output, dim_output)\n",
        "\n",
        "        nn.init.xavier_normal_(self.W_alpha.weight)\n",
        "        nn.init.xavier_normal_(self.post_concat_dense.weight)\n",
        "\n",
        "    def forward(self, x):\n",
        "\n",
        "        T, N, C = x.shape\n",
        "        _, enc_h = self.encoder(x)\n",
        "        h_t = enc_h[-1:]\n",
        "        y = []\n",
        "        s_t = torch.zeros((1, N, C), dtype=torch.float32)\n",
        "        s_t[..., -2] = 1\n",
        "\n",
        "        precomputed_encoder_score_vectors = self.W_alpha(enc_h)\n",
        "\n",
        "        a_ij = []\n",
        "\n",
        "        for _ in range(T):\n",
        "\n",
        "            e_t = (precomputed_encoder_score_vectors * h_t).sum(dim=-1)\n",
        "            a_t = F.softmax(e_t, dim=0)\n",
        "            a_ij.append(a_t.unsqueeze(0))\n",
        "            c_t = (a_t[..., None] * enc_h).sum(dim=0, keepdim=True)\n",
        "            y_t, h_t = self.decoder(s_t, h_t)\n",
        "            y_and_c = torch.cat([y_t, c_t], dim=-1)\n",
        "            y_t = self.post_concat_dense(y_and_c)\n",
        "            y.append(y_t)\n",
        "            s_t = one_hot_encode_prediction(y_t)\n",
        "        y = torch.cat(y, dim=0)  # y: shape-(T, N, K)\n",
        "        a_ij = torch.cat(a_ij, dim=0) # a_ij: shape-(T, T, N)\n",
        "\n",
        "        return y, a_ij\n"
      ],
      "metadata": {
        "id": "31w6I-mnwZX_"
      },
      "execution_count": 21,
      "outputs": []
    },
    {
      "cell_type": "code",
      "source": [
        "model = Attentionseq2seq(12, 25, 12)\n",
        "optimizer = optim.Adam(model.parameters())"
      ],
      "metadata": {
        "id": "1szc-Pe3wOxf"
      },
      "execution_count": 22,
      "outputs": []
    },
    {
      "cell_type": "code",
      "source": [
        "from IPython.display import clear_output\n",
        "def plot_all(losses, acces):\n",
        "    clear_output(wait=True)\n",
        "    plt.figure(figsize=(10, 5))\n",
        "    plt.plot(losses, label='Loss')\n",
        "    plt.plot(acces, label='acc')\n",
        "    plt.xlabel('Batches (It must multiple x 1000)')\n",
        "    plt.ylabel('Loss and Acc')\n",
        "    plt.title('Loss and Acc Averages over Epochs')\n",
        "    plt.legend()\n",
        "    plt.grid()\n",
        "    plt.show()"
      ],
      "metadata": {
        "id": "H7bKxf8zw_rv"
      },
      "execution_count": 23,
      "outputs": []
    },
    {
      "cell_type": "code",
      "source": [
        "batch_size = 100\n",
        "num_batches = 30000\n",
        "\n",
        "loss_ = []\n",
        "acc_ = []\n",
        "loss_average_list = []\n",
        "acc_list_average = []\n",
        "for k in range(num_batches):\n",
        "    x, target, sequence = generate_batch(batch_size=batch_size)\n",
        "\n",
        "    x_tensor = torch.tensor(x, dtype=torch.float32)\n",
        "    target_tensor = torch.tensor(target, dtype=torch.long)\n",
        "\n",
        "    optimizer.zero_grad()\n",
        "    output, _ = model(x_tensor)\n",
        "\n",
        "    loss_fn = nn.CrossEntropyLoss()\n",
        "    loss = loss_fn(output.reshape(-1, 12), target_tensor.reshape(-1))\n",
        "    loss.backward()\n",
        "    optimizer.step()\n",
        "\n",
        "    acc = (output.argmax(dim=-1) == target_tensor).float().mean().item()\n",
        "\n",
        "    loss_.append(loss.item())\n",
        "    acc_.append(acc)\n",
        "    if k % 1000 == 0:\n",
        "        acc_average = np.mean(acc_)\n",
        "        loss_average = np.mean(loss_)\n",
        "        loss_average_list.append(loss_average)\n",
        "        acc_list_average.append(acc_average)\n",
        "        plot_all(loss_average_list, acc_list_average)\n",
        "        print(f\"loss: {loss_average}, accuracy: {acc_average}\")"
      ],
      "metadata": {
        "colab": {
          "base_uri": "https://localhost:8080/",
          "height": 505
        },
        "id": "KSuHxPxRxD9V",
        "outputId": "4961dba9-6da2-4b6f-b2ac-3041380556de"
      },
      "execution_count": 24,
      "outputs": [
        {
          "output_type": "display_data",
          "data": {
            "text/plain": [
              "<Figure size 1000x500 with 1 Axes>"
            ],
            "image/png": "[encoded data removed]"
          },
          "metadata": {}
        },
        {
          "output_type": "stream",
          "name": "stdout",
          "text": [
            "loss: 0.12213946408073843, accuracy: 0.964683752203178\n"
          ]
        }
      ]
    }
  ]
}