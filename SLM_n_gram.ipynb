{
  "nbformat": 4,
  "nbformat_minor": 0,
  "metadata": {
    "colab": {
      "provenance": [],
      "gpuType": "T4",
      "authorship_tag": "ABX9TyO/e/Gk4eg+O8+6c8C1W277",
      "include_colab_link": true
    },
    "kernelspec": {
      "name": "python3",
      "display_name": "Python 3"
    },
    "language_info": {
      "name": "python"
    },
    "accelerator": "GPU"
  },
  "cells": [
    {
      "cell_type": "markdown",
      "metadata": {
        "id": "view-in-github",
        "colab_type": "text"
      },
      "source": [
        "<a href=\"https://colab.research.google.com/github/hyeonjusong410/DL.Basic/blob/main/SLM_n_gram.ipynb\" target=\"_parent\"><img src=\"https://colab.research.google.com/assets/colab-badge.svg\" alt=\"Open In Colab\"/></a>"
      ]
    },
    {
      "cell_type": "code",
      "execution_count": 13,
      "metadata": {
        "colab": {
          "base_uri": "https://localhost:8080/"
        },
        "id": "JIlVocJ-dco3",
        "outputId": "cce28110-dccb-49d4-a7a4-5c5c3d111e05"
      },
      "outputs": [
        {
          "output_type": "stream",
          "name": "stdout",
          "text": [
            "Drive already mounted at /content/gdrive; to attempt to forcibly remount, call drive.mount(\"/content/gdrive\", force_remount=True).\n"
          ]
        }
      ],
      "source": [
        "from google.colab import drive\n",
        "drive.mount('/content/gdrive')"
      ]
    },
    {
      "cell_type": "code",
      "source": [
        "!cp \"/content/gdrive/MyDrive/Colab Notebooks/DL_Basic/shakespeare_input.txt\" \"/content/\"\n"
      ],
      "metadata": {
        "id": "rXqIpXPydeec"
      },
      "execution_count": 16,
      "outputs": []
    },
    {
      "cell_type": "markdown",
      "source": [
        "### Goal: Analyze Shakespeare’s writing style and train a model to generate new text that imitates Shakespeare’s style."
      ],
      "metadata": {
        "id": "HkOVu60ifeLw"
      }
    },
    {
      "cell_type": "markdown",
      "source": [
        "#### letter - fequency Function"
      ],
      "metadata": {
        "id": "ld9Xm1dSfj_j"
      }
    },
    {
      "cell_type": "code",
      "source": [
        "from collections import Counter\n",
        "\n",
        "def normalize(counter):\n",
        "    total = 0\n",
        "    for _, cnt in counter.items():\n",
        "        total += cnt\n",
        "\n",
        "    freq = []\n",
        "\n",
        "    for char, cnt in counter.items():\n",
        "         freq.append((char, cnt/total))\n",
        "\n",
        "    return freq"
      ],
      "metadata": {
        "id": "4CrHfB5eehc5"
      },
      "execution_count": 17,
      "outputs": []
    },
    {
      "cell_type": "code",
      "source": [
        "from collections import defaultdict, Counter\n",
        "\n",
        "def train_lm(text, n):\n",
        "  raw_lm = defaultdict(Counter)\n",
        "\n",
        "  history = \"~\" * (n - 1)\n",
        "\n",
        "  for char in text:\n",
        "    raw_lm[history][char] += 1\n",
        "    history = history[1:] + char\n",
        "\n",
        "  lm = {}\n",
        "  for history, counter in raw_lm.items():\n",
        "    lm[history] = normalize(counter)\n",
        "\n",
        "  return lm\n"
      ],
      "metadata": {
        "id": "bXu5cqd2hKoy"
      },
      "execution_count": 18,
      "outputs": []
    },
    {
      "cell_type": "code",
      "source": [
        "lm = train_lm(\"cacao\", 3)\n",
        "lm"
      ],
      "metadata": {
        "colab": {
          "base_uri": "https://localhost:8080/"
        },
        "id": "hFG3boY1l2Ti",
        "outputId": "517bca67-ab28-4777-d1d3-7975414d8ff6"
      },
      "execution_count": 21,
      "outputs": [
        {
          "output_type": "execute_result",
          "data": {
            "text/plain": [
              "{'~~': [('c', 1.0)],\n",
              " '~c': [('a', 1.0)],\n",
              " 'ca': [('c', 0.5), ('o', 0.5)],\n",
              " 'ac': [('a', 1.0)]}"
            ]
          },
          "metadata": {},
          "execution_count": 21
        }
      ]
    },
    {
      "cell_type": "code",
      "source": [
        "text = \"\"\"The sun did not shine, it was too wet to play,\n",
        "so we sat in the house all that cold, cold wet day.\n",
        "I sat there with Sally. We sat here we two\n",
        "and we said 'How we wish we had something to do.'\"\"\"\n",
        "\n",
        "lm3 = train_lm(text, 3)\n",
        "lm3"
      ],
      "metadata": {
        "colab": {
          "base_uri": "https://localhost:8080/"
        },
        "collapsed": true,
        "id": "SAaC3x9-mcum",
        "outputId": "3b52dae0-efbd-470c-a971-b36ada574ba4"
      },
      "execution_count": 23,
      "outputs": [
        {
          "output_type": "execute_result",
          "data": {
            "text/plain": [
              "{'~~': [('T', 1.0)],\n",
              " '~T': [('h', 1.0)],\n",
              " 'Th': [('e', 1.0)],\n",
              " 'he': [(' ', 0.5), ('r', 0.5)],\n",
              " 'e ': [('s', 0.36363636363636365),\n",
              "  ('h', 0.18181818181818182),\n",
              "  ('a', 0.09090909090909091),\n",
              "  ('w', 0.2727272727272727),\n",
              "  ('t', 0.09090909090909091)],\n",
              " ' s': [('u', 0.14285714285714285),\n",
              "  ('h', 0.14285714285714285),\n",
              "  ('a', 0.5714285714285714),\n",
              "  ('o', 0.14285714285714285)],\n",
              " 'su': [('n', 1.0)],\n",
              " 'un': [(' ', 1.0)],\n",
              " 'n ': [('d', 0.5), ('t', 0.5)],\n",
              " ' d': [('i', 0.3333333333333333),\n",
              "  ('a', 0.3333333333333333),\n",
              "  ('o', 0.3333333333333333)],\n",
              " 'di': [('d', 1.0)],\n",
              " 'id': [(' ', 1.0)],\n",
              " 'd ': [('n', 0.2), ('w', 0.4), (\"'\", 0.2), ('s', 0.2)],\n",
              " ' n': [('o', 1.0)],\n",
              " 'no': [('t', 1.0)],\n",
              " 'ot': [(' ', 1.0)],\n",
              " 't ': [('s', 0.125),\n",
              "  ('w', 0.125),\n",
              "  ('t', 0.25),\n",
              "  ('i', 0.125),\n",
              "  ('c', 0.125),\n",
              "  ('d', 0.125),\n",
              "  ('h', 0.125)],\n",
              " 'sh': [('i', 0.5), (' ', 0.5)],\n",
              " 'hi': [('n', 1.0)],\n",
              " 'in': [('e', 0.3333333333333333),\n",
              "  (' ', 0.3333333333333333),\n",
              "  ('g', 0.3333333333333333)],\n",
              " 'ne': [(',', 1.0)],\n",
              " 'e,': [(' ', 1.0)],\n",
              " ', ': [('i', 0.5), ('c', 0.5)],\n",
              " ' i': [('t', 0.5), ('n', 0.5)],\n",
              " 'it': [(' ', 0.5), ('h', 0.5)],\n",
              " ' w': [('a', 0.1), ('e', 0.7), ('i', 0.2)],\n",
              " 'wa': [('s', 1.0)],\n",
              " 'as': [(' ', 1.0)],\n",
              " 's ': [('t', 1.0)],\n",
              " ' t': [('o', 0.42857142857142855),\n",
              "  ('h', 0.42857142857142855),\n",
              "  ('w', 0.14285714285714285)],\n",
              " 'to': [('o', 0.3333333333333333), (' ', 0.6666666666666666)],\n",
              " 'oo': [(' ', 1.0)],\n",
              " 'o ': [('w', 0.5), ('p', 0.25), ('d', 0.25)],\n",
              " 'we': [('t', 0.2857142857142857), (' ', 0.7142857142857143)],\n",
              " 'et': [(' ', 0.6666666666666666), ('h', 0.3333333333333333)],\n",
              " ' p': [('l', 1.0)],\n",
              " 'pl': [('a', 1.0)],\n",
              " 'la': [('y', 1.0)],\n",
              " 'ay': [(',', 0.5), ('.', 0.5)],\n",
              " 'y,': [('\\n', 1.0)],\n",
              " ',\\n': [('s', 1.0)],\n",
              " '\\ns': [('o', 1.0)],\n",
              " 'so': [(' ', 0.5), ('m', 0.5)],\n",
              " 'sa': [('t', 0.75), ('i', 0.25)],\n",
              " 'at': [(' ', 1.0)],\n",
              " 'th': [('e', 0.4), ('a', 0.2), (' ', 0.2), ('i', 0.2)],\n",
              " ' h': [('o', 0.3333333333333333),\n",
              "  ('e', 0.3333333333333333),\n",
              "  ('a', 0.3333333333333333)],\n",
              " 'ho': [('u', 1.0)],\n",
              " 'ou': [('s', 1.0)],\n",
              " 'us': [('e', 1.0)],\n",
              " 'se': [(' ', 1.0)],\n",
              " ' a': [('l', 1.0)],\n",
              " 'al': [('l', 1.0)],\n",
              " 'll': [(' ', 0.5), ('y', 0.5)],\n",
              " 'l ': [('t', 1.0)],\n",
              " 'ha': [('t', 0.5), ('d', 0.5)],\n",
              " ' c': [('o', 1.0)],\n",
              " 'co': [('l', 1.0)],\n",
              " 'ol': [('d', 1.0)],\n",
              " 'ld': [(',', 0.5), (' ', 0.5)],\n",
              " 'd,': [(' ', 1.0)],\n",
              " 'da': [('y', 1.0)],\n",
              " 'y.': [('\\n', 0.5), (' ', 0.5)],\n",
              " '.\\n': [('I', 1.0)],\n",
              " '\\nI': [(' ', 1.0)],\n",
              " 'I ': [('s', 1.0)],\n",
              " 'er': [('e', 1.0)],\n",
              " 're': [(' ', 1.0)],\n",
              " 'wi': [('t', 0.5), ('s', 0.5)],\n",
              " 'h ': [('S', 0.5), ('w', 0.5)],\n",
              " ' S': [('a', 1.0)],\n",
              " 'Sa': [('l', 1.0)],\n",
              " 'ly': [('.', 1.0)],\n",
              " '. ': [('W', 1.0)],\n",
              " ' W': [('e', 1.0)],\n",
              " 'We': [(' ', 1.0)],\n",
              " 'tw': [('o', 1.0)],\n",
              " 'wo': [('\\n', 1.0)],\n",
              " 'o\\n': [('a', 1.0)],\n",
              " '\\na': [('n', 1.0)],\n",
              " 'an': [('d', 1.0)],\n",
              " 'nd': [(' ', 1.0)],\n",
              " 'ai': [('d', 1.0)],\n",
              " \" '\": [('H', 1.0)],\n",
              " \"'H\": [('o', 1.0)],\n",
              " 'Ho': [('w', 1.0)],\n",
              " 'ow': [(' ', 1.0)],\n",
              " 'w ': [('w', 1.0)],\n",
              " 'is': [('h', 1.0)],\n",
              " 'ad': [(' ', 1.0)],\n",
              " 'om': [('e', 1.0)],\n",
              " 'me': [('t', 1.0)],\n",
              " 'ng': [(' ', 1.0)],\n",
              " 'g ': [('t', 1.0)],\n",
              " 'do': [('.', 1.0)],\n",
              " 'o.': [(\"'\", 1.0)]}"
            ]
          },
          "metadata": {},
          "execution_count": 23
        }
      ]
    },
    {
      "cell_type": "code",
      "source": [
        "lm3[\"~~\"]"
      ],
      "metadata": {
        "colab": {
          "base_uri": "https://localhost:8080/"
        },
        "id": "ZjKweFM0nn8F",
        "outputId": "4ed8b5ae-95dd-4d27-8807-25fd0b9783f4"
      },
      "execution_count": 24,
      "outputs": [
        {
          "output_type": "execute_result",
          "data": {
            "text/plain": [
              "[('T', 1.0)]"
            ]
          },
          "metadata": {},
          "execution_count": 24
        }
      ]
    },
    {
      "cell_type": "markdown",
      "source": [
        "#### generatig text"
      ],
      "metadata": {
        "id": "WVlUwX4jn6gz"
      }
    },
    {
      "cell_type": "code",
      "source": [
        "def unzip(pairs):\n",
        "\n",
        "    return tuple(zip(*pairs))"
      ],
      "metadata": {
        "id": "pfmcbrj5nv0U"
      },
      "execution_count": 26,
      "outputs": []
    },
    {
      "cell_type": "code",
      "source": [
        "import numpy as np\n",
        "\n",
        "def generate_letter(lm, history):\n",
        "    if not history in lm:\n",
        "      return \"~\"\n",
        "    letter, probs = unzip(lm[history])\n",
        "    return np.random.choice(letter, p=probs)"
      ],
      "metadata": {
        "id": "hxezh0xzoQOO"
      },
      "execution_count": 33,
      "outputs": []
    },
    {
      "cell_type": "code",
      "source": [
        "set(generate_letter(lm3, \"th\") for i in range(100))"
      ],
      "metadata": {
        "colab": {
          "base_uri": "https://localhost:8080/"
        },
        "id": "PnlLF6T7o65y",
        "outputId": "04ccb46c-01b8-47d6-e594-017e6c300581"
      },
      "execution_count": 34,
      "outputs": [
        {
          "output_type": "execute_result",
          "data": {
            "text/plain": [
              "{np.str_(' '), np.str_('a'), np.str_('e'), np.str_('i')}"
            ]
          },
          "metadata": {},
          "execution_count": 34
        }
      ]
    },
    {
      "cell_type": "code",
      "source": [
        "def generate_text(lm, n, nletters=100):\n",
        "  history = \"~\" * (n - 1)\n",
        "  text = []\n",
        "\n",
        "  for i in range(nletters):\n",
        "    c = generate_letter(lm, history)\n",
        "    text.append(c)\n",
        "    history = history[1:] + c\n",
        "\n",
        "  return \"\".join(text)"
      ],
      "metadata": {
        "id": "9TmhL70LpGiD"
      },
      "execution_count": 40,
      "outputs": []
    },
    {
      "cell_type": "code",
      "source": [
        "print(generate_text(lm3, 3, 40))"
      ],
      "metadata": {
        "colab": {
          "base_uri": "https://localhost:8080/"
        },
        "id": "jfeohlHNpwYn",
        "outputId": "7256ef2b-c5d2-48df-aaf5-f510166ffbfe"
      },
      "execution_count": 41,
      "outputs": [
        {
          "output_type": "stream",
          "name": "stdout",
          "text": [
            "There th we had not sat cold, cold said \n"
          ]
        }
      ]
    },
    {
      "cell_type": "code",
      "source": [
        "path_to_shakespeare = \"shakespeare_input.txt\"\n",
        "with open(path_to_shakespeare, \"r\") as f:\n",
        "    shakespeare = f.read()\n",
        "print(str(len(shakespeare)) + \" character(s)\")\n",
        "chars = set(shakespeare)\n",
        "print(f\"'~' is a good pad character: {'~' not in chars}\")"
      ],
      "metadata": {
        "colab": {
          "base_uri": "https://localhost:8080/"
        },
        "id": "6pZT7l_-p5iN",
        "outputId": "cdf7b651-e10f-4fbc-b308-db22f622a3e9"
      },
      "execution_count": 42,
      "outputs": [
        {
          "output_type": "stream",
          "name": "stdout",
          "text": [
            "4573338 character(s)\n",
            "'~' is a good pad character: True\n"
          ]
        }
      ]
    },
    {
      "cell_type": "code",
      "source": [
        "lm3 = train_lm(shakespeare, 3)"
      ],
      "metadata": {
        "id": "Yke0T_QYqcUW"
      },
      "execution_count": 43,
      "outputs": []
    },
    {
      "cell_type": "code",
      "source": [
        "print(generate_text(lm3, 3, 500))"
      ],
      "metadata": {
        "colab": {
          "base_uri": "https://localhost:8080/"
        },
        "id": "tJpzSHWrqmRP",
        "outputId": "0ca548dd-03ea-469d-97bb-ef21f0005609"
      },
      "execution_count": 46,
      "outputs": [
        {
          "output_type": "stream",
          "name": "stdout",
          "text": [
            "Fife\n",
            "Thathere upor's en mand ear th entriectiou and\n",
            "arme se to thy I tart, falifuld the and thould, baway.\n",
            "\n",
            "Beir, I a gat yoursee,\n",
            "Whand, ciperts ishe slany.\n",
            "\n",
            "A wres captake dose,\n",
            "Tromford ord loo hour lem.\n",
            "\n",
            "Firly, fortak youl by a ween prept, lage houst thathigh meres.\n",
            "\n",
            "God, th gisest thead!\n",
            "\n",
            "Capin So this th, like to\n",
            "cruill I beattim?\n",
            "\n",
            "Nay\n",
            "How an the go a fain yet ifou thourpour conery; ADY Bideve mak, thy pleed, worombat liant warect,\n",
            "My leave lord nothertalf; in waywhis imy his man las love \n"
          ]
        }
      ]
    },
    {
      "cell_type": "code",
      "source": [
        "lm5 = train_lm(shakespeare, 5)"
      ],
      "metadata": {
        "id": "LvMB9y5Uqrv7"
      },
      "execution_count": 48,
      "outputs": []
    },
    {
      "cell_type": "code",
      "source": [
        "print(generate_text(lm5, 5))"
      ],
      "metadata": {
        "colab": {
          "base_uri": "https://localhost:8080/"
        },
        "id": "HxDRjdFxrd9r",
        "outputId": "22d75c75-8508-4091-8eb1-4ab5b7480b66"
      },
      "execution_count": 49,
      "outputs": [
        {
          "output_type": "stream",
          "name": "stdout",
          "text": [
            "First Love the bite you damm'st 'pardon' shadows\n",
            "And of that a pardy\n",
            "valiant now! those singer.\n",
            "You'\n"
          ]
        }
      ]
    },
    {
      "cell_type": "code",
      "source": [
        "lm11 = train_lm(shakespeare, 11)"
      ],
      "metadata": {
        "id": "l18hR9s0rk6U"
      },
      "execution_count": 50,
      "outputs": []
    },
    {
      "cell_type": "code",
      "source": [
        "print(generate_text(lm11, 11, 500))"
      ],
      "metadata": {
        "colab": {
          "base_uri": "https://localhost:8080/"
        },
        "id": "FT9xRStZrtAK",
        "outputId": "84dcdc1f-a451-4682-e7cc-9440d204ade1"
      },
      "execution_count": 51,
      "outputs": [
        {
          "output_type": "stream",
          "name": "stdout",
          "text": [
            "First Citizen:\n",
            "You must not walk too late.\n",
            "\n",
            "THOMAS MOWBRAY:\n",
            "However God or fortune's tooth.\n",
            "It seems not in heaven,\n",
            "To be dishonour\n",
            "Than for your head,\n",
            "Let heaven mocks itself!\n",
            "I'll not be long; that there?\n",
            "\n",
            "DROMIO OF EPHESUS:\n",
            "I have been my world;\n",
            "Which were streak'd gillyvors,\n",
            "And do expect him here; but made not the punishment for him you do envy me so?\n",
            "Nay then you jest, and not for Tybalt, Juliet pined.\n",
            "You, to remove that siege of justice ward you as his enemies.\n",
            "\n",
            "MOWBRAY:\n",
            "I well allow the\n"
          ]
        }
      ]
    }
  ]
}